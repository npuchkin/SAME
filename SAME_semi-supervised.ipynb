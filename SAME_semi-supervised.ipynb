{
 "cells": [
  {
   "cell_type": "markdown",
   "metadata": {},
   "source": [
    "## Nikita Puchkin\n",
    "\n",
    "# Manifold denoising with application to semi-supervised learning\n",
    "\n",
    "## The datasets are available at http://olivier.chapelle.cc/ssl-book/benchmarks.html"
   ]
  },
  {
   "cell_type": "code",
   "execution_count": 1,
   "metadata": {
    "collapsed": true
   },
   "outputs": [],
   "source": [
    "import numpy as np\n",
    "from sklearn.metrics import pairwise_distances\n",
    "import matplotlib.pyplot as plt\n",
    "from sklearn.neighbors import KNeighborsClassifier\n",
    "from scipy.io import loadmat\n",
    "from sklearn.model_selection import train_test_split"
   ]
  },
  {
   "cell_type": "markdown",
   "metadata": {},
   "source": [
    "## Structure-adaptive manifold estimator (SAME)\n",
    "\n",
    "### The description is available at https://arxiv.org/abs/1906.05014"
   ]
  },
  {
   "cell_type": "code",
   "execution_count": 2,
   "metadata": {
    "collapsed": false
   },
   "outputs": [],
   "source": [
    "# Manifold denoising procedure\n",
    "#\n",
    "# Y -- (n_samples x n_features)-array of noisy observations,\n",
    "# generated from the model Y_i = X_i + eps_i, 1 <= i <= n_samples,\n",
    "# where X_i lies on a manifold and eps_i is a perpendicular\n",
    "# zero-mean noise\n",
    "#\n",
    "# projectors_list -- list of initial guesses of projectors\n",
    "# onto tangent spaces at the points X_1, ..., X_n\n",
    "#\n",
    "# bandwidths_list -- a decreasing sequence of bandwidths\n",
    "#\n",
    "# d -- manifold dimension\n",
    "#\n",
    "# tau -- threshold parameter, must be less than the reach\n",
    "# of the manifold\n",
    "#\n",
    "def SAME(Y, projectors_list, bandwidths_list, d, tau, gamma=4.0):\n",
    "    \n",
    "    # number of iterations\n",
    "    n_iterations = len(bandwidths_list)\n",
    "    # sample size\n",
    "    n = Y.shape[0]\n",
    "    # dimension of the ambient space\n",
    "    D = Y.shape[1]\n",
    "    \n",
    "    # Initialization\n",
    "    X = Y[:,:]\n",
    "    projectors = projectors_list\n",
    "    \n",
    "    for k in range(n_iterations):\n",
    "        \n",
    "        # pairwise distances\n",
    "        dist = pairwise_distances(Y)\n",
    "        \n",
    "        # compute adjusted distances\n",
    "        a_dist = np.empty((0, n))\n",
    "        for i in range(n):\n",
    "            \n",
    "            # distances to the i-th point\n",
    "            a_dist_i = np.linalg.norm(projectors[i] @ ((Y - Y[i,:]).transpose()), axis=0).reshape(1, -1)\n",
    "            a_dist = np.append(a_dist, a_dist_i, axis=0)\n",
    "            \n",
    "        # compute weights\n",
    "        h = bandwidths_list[k]\n",
    "        W = np.exp(-a_dist**2/h**2) * (dist < tau)\n",
    "        \n",
    "        # compute the adjusted Nadaraya-Watson estimate\n",
    "        X = W.dot(Y) / np.tile(np.sum(W, axis=1).reshape(-1, 1), (1, Y.shape[1]))\n",
    "        \n",
    "        # compute the projectors\n",
    "        if k < n_iterations-1:\n",
    "            for i in range(n):\n",
    "\n",
    "                # compute weighted covariance\n",
    "                X0 = X[i, :]\n",
    "                x_dist = np.linalg.norm(X - X0, axis=1)\n",
    "                weights = 1 * (x_dist < gamma * h)\n",
    "                \n",
    "                X_weighted = np.diag(weights**0.5) @ (X - X0)\n",
    "                u, s, vt = np.linalg.svd(X_weighted, full_matrices=False)\n",
    "                \n",
    "                # update the i-th projector\n",
    "                projectors[i] = np.dot(vt[:d, :].transpose(), vt[:d, :])\n",
    "    \n",
    "    return X, projectors"
   ]
  },
  {
   "cell_type": "markdown",
   "metadata": {},
   "source": [
    "# g241c dataset"
   ]
  },
  {
   "cell_type": "markdown",
   "metadata": {},
   "source": [
    "### Dataset preprocessing"
   ]
  },
  {
   "cell_type": "code",
   "execution_count": 3,
   "metadata": {
    "collapsed": true
   },
   "outputs": [],
   "source": [
    "# Load data\n",
    "data = loadmat('g241c_data.mat')"
   ]
  },
  {
   "cell_type": "code",
   "execution_count": 4,
   "metadata": {
    "collapsed": false
   },
   "outputs": [
    {
     "name": "stdout",
     "output_type": "stream",
     "text": [
      "(1500, 241) (1500,)\n"
     ]
    }
   ],
   "source": [
    "# Features\n",
    "X = data['X']\n",
    "# Labels\n",
    "y = data['y']\n",
    "\n",
    "y = y.reshape(-1)\n",
    "\n",
    "print(X.shape, y.shape)"
   ]
  },
  {
   "cell_type": "code",
   "execution_count": 5,
   "metadata": {
    "collapsed": false
   },
   "outputs": [
    {
     "name": "stdout",
     "output_type": "stream",
     "text": [
      "(100, 241) (100,) (1400, 241) (1400,)\n"
     ]
    }
   ],
   "source": [
    "# Split the data into train and test sets\n",
    "n_train = 100\n",
    "n_test = X.shape[0] - n_train\n",
    "\n",
    "X_tr, X_te, y_tr, y_te = train_test_split(X, y, test_size=n_test, random_state=1)\n",
    "\n",
    "print(X_tr.shape, y_tr.shape, X_te.shape, y_te.shape)"
   ]
  },
  {
   "cell_type": "code",
   "execution_count": 6,
   "metadata": {
    "collapsed": false
   },
   "outputs": [
    {
     "name": "stdout",
     "output_type": "stream",
     "text": [
      "(1500, 241)\n"
     ]
    }
   ],
   "source": [
    "# Merge all the feature vectors \n",
    "X_all = np.append(X_tr, X_te, axis=0)\n",
    "print(X_all.shape)"
   ]
  },
  {
   "cell_type": "code",
   "execution_count": 7,
   "metadata": {
    "collapsed": false
   },
   "outputs": [
    {
     "data": {
      "image/png": "[encoded data removed]",
      "text/plain": [
       "<matplotlib.figure.Figure at 0x11068c630>"
      ]
     },
     "metadata": {},
     "output_type": "display_data"
    }
   ],
   "source": [
    "% matplotlib inline\n",
    "\n",
    "# Fix a point and look at the distance to the closest neighbors\n",
    "# This helps to choose tau and initial bandwidth\n",
    "\n",
    "X0 = X_all[0]\n",
    "dist = np.linalg.norm(X_all - X0, axis=1)\n",
    "dist_sorted = np.sort(dist)\n",
    "\n",
    "plt.figure()\n",
    "plt.plot(np.arange(X_all.shape[0]-1), dist_sorted[1:], 'r.')\n",
    "plt.xlabel('number_of_neighbor')\n",
    "plt.ylabel('distance')\n",
    "plt.show()\n",
    "plt.close()"
   ]
  },
  {
   "cell_type": "markdown",
   "metadata": {},
   "source": [
    "### Classification without denoising"
   ]
  },
  {
   "cell_type": "code",
   "execution_count": 8,
   "metadata": {
    "collapsed": true
   },
   "outputs": [],
   "source": [
    "# Create a nearest neighbor classifier\n",
    "n_neighbors = 21\n",
    "kNN = KNeighborsClassifier(n_neighbors=n_neighbors)"
   ]
  },
  {
   "cell_type": "code",
   "execution_count": 9,
   "metadata": {
    "collapsed": false
   },
   "outputs": [
    {
     "name": "stdout",
     "output_type": "stream",
     "text": [
      "Error without denoising: 0.31285714285714283\n"
     ]
    }
   ],
   "source": [
    "# Fit\n",
    "kNN.fit(X_tr, y_tr)\n",
    "# Predict\n",
    "y_pr = kNN.predict(X_te)\n",
    "print('Error without denoising:', np.sum(y_pr != y_te) / n_test)"
   ]
  },
  {
   "cell_type": "markdown",
   "metadata": {},
   "source": [
    "### Denoising"
   ]
  },
  {
   "cell_type": "code",
   "execution_count": 10,
   "metadata": {
    "collapsed": false
   },
   "outputs": [
    {
     "name": "stdout",
     "output_type": "stream",
     "text": [
      "[20.         16.66666667]\n"
     ]
    }
   ],
   "source": [
    "# Ambient dimension\n",
    "D = X_all.shape[1]\n",
    "# Intrinsic dimension\n",
    "d = 10\n",
    "# Sample size\n",
    "n_samples = X_all.shape[0]\n",
    "\n",
    "n_iterations = 2\n",
    "a = 1.2\n",
    "bandwidths = 20 * a**(-np.arange(n_iterations))\n",
    "print(bandwidths)\n",
    "projectors = [np.identity(D)] * n_samples"
   ]
  },
  {
   "cell_type": "code",
   "execution_count": 11,
   "metadata": {
    "collapsed": false
   },
   "outputs": [
    {
     "name": "stdout",
     "output_type": "stream",
     "text": [
      "218.5060711593772\n"
     ]
    }
   ],
   "source": [
    "# Denoising\n",
    "X_denoised, projectors = SAME(X_all, projectors, bandwidths, d=d, tau=22)\n",
    "# Show the average change\n",
    "print(np.linalg.norm(X_denoised - X_all, ord='fro')**2 / n_samples)        "
   ]
  },
  {
   "cell_type": "code",
   "execution_count": 12,
   "metadata": {
    "collapsed": true
   },
   "outputs": [],
   "source": [
    "# Split back into train and test points\n",
    "X_denoised_tr = X_denoised[:X_tr.shape[0]]\n",
    "X_denoised_te = X_denoised[X_tr.shape[0]:]"
   ]
  },
  {
   "cell_type": "code",
   "execution_count": 13,
   "metadata": {
    "collapsed": false
   },
   "outputs": [
    {
     "data": {
      "image/png": "[encoded data removed]",
      "text/plain": [
       "<matplotlib.figure.Figure at 0x1138da8d0>"
      ]
     },
     "metadata": {},
     "output_type": "display_data"
    }
   ],
   "source": [
    "%matplotlib inline\n",
    "\n",
    "# Look the the distance to the neighbors\n",
    "# The distance to the nearest neighbor was significantly reduced\n",
    "\n",
    "X0 = X_denoised[0]\n",
    "dist = np.linalg.norm(X_denoised - X0, axis=1)\n",
    "dist_sorted = np.sort(dist)\n",
    "\n",
    "plt.figure()\n",
    "plt.plot(np.arange(X_all.shape[0]-1), dist_sorted[1:], 'r.')\n",
    "plt.xlabel('number_of_neighbor')\n",
    "plt.ylabel('distance')\n",
    "plt.show()\n",
    "plt.close()"
   ]
  },
  {
   "cell_type": "markdown",
   "metadata": {},
   "source": [
    "### Classification after denoising"
   ]
  },
  {
   "cell_type": "code",
   "execution_count": 14,
   "metadata": {
    "collapsed": true
   },
   "outputs": [],
   "source": [
    "# Create a nearest neighbor classifier\n",
    "n_neighbors = 15\n",
    "kNN = KNeighborsClassifier(n_neighbors=n_neighbors)"
   ]
  },
  {
   "cell_type": "code",
   "execution_count": 15,
   "metadata": {
    "collapsed": false
   },
   "outputs": [
    {
     "name": "stdout",
     "output_type": "stream",
     "text": [
      "Error after denoising: 0.27785714285714286\n"
     ]
    }
   ],
   "source": [
    "# Fit\n",
    "kNN.fit(X_denoised_tr, y_tr)\n",
    "# Predict\n",
    "y_pr = kNN.predict(X_denoised_te)\n",
    "print('Error after denoising:', np.sum(y_pr != y_te) / n_test)"
   ]
  },
  {
   "cell_type": "markdown",
   "metadata": {
    "collapsed": true
   },
   "source": [
    "# g241n dataset"
   ]
  },
  {
   "cell_type": "markdown",
   "metadata": {},
   "source": [
    "### Dataset preprocesssing"
   ]
  },
  {
   "cell_type": "code",
   "execution_count": 16,
   "metadata": {
    "collapsed": true
   },
   "outputs": [],
   "source": [
    "# Load data\n",
    "data = loadmat('g241n_data.mat')"
   ]
  },
  {
   "cell_type": "code",
   "execution_count": 17,
   "metadata": {
    "collapsed": false
   },
   "outputs": [
    {
     "name": "stdout",
     "output_type": "stream",
     "text": [
      "(1500, 241) (1500,)\n"
     ]
    }
   ],
   "source": [
    "# Features\n",
    "X = data['X']\n",
    "# Labels\n",
    "y = data['y']\n",
    "\n",
    "y = y.reshape(-1)\n",
    "\n",
    "print(X.shape, y.shape)"
   ]
  },
  {
   "cell_type": "code",
   "execution_count": 18,
   "metadata": {
    "collapsed": false
   },
   "outputs": [
    {
     "name": "stdout",
     "output_type": "stream",
     "text": [
      "(100, 241) (100,) (1400, 241) (1400,)\n"
     ]
    }
   ],
   "source": [
    "# Split the data into train and test sets\n",
    "n_train = 100\n",
    "n_test = X.shape[0] - n_train\n",
    "\n",
    "X_tr, X_te, y_tr, y_te = train_test_split(X, y, test_size=n_test, random_state=1)\n",
    "\n",
    "print(X_tr.shape, y_tr.shape, X_te.shape, y_te.shape)"
   ]
  },
  {
   "cell_type": "code",
   "execution_count": 19,
   "metadata": {
    "collapsed": false
   },
   "outputs": [
    {
     "name": "stdout",
     "output_type": "stream",
     "text": [
      "(1500, 241)\n"
     ]
    }
   ],
   "source": [
    "# Merge all the feature vectors \n",
    "X_all = np.append(X_tr, X_te, axis=0)\n",
    "print(X_all.shape)"
   ]
  },
  {
   "cell_type": "code",
   "execution_count": 21,
   "metadata": {
    "collapsed": false
   },
   "outputs": [
    {
     "data": {
      "image/png": "[encoded data removed]",
      "text/plain": [
       "<matplotlib.figure.Figure at 0x110a466d8>"
      ]
     },
     "metadata": {},
     "output_type": "display_data"
    }
   ],
   "source": [
    "% matplotlib inline\n",
    "\n",
    "# Fix a point and look at the distance to the closest neighbors\n",
    "# This helps to choose tau and initial bandwidth\n",
    "\n",
    "X0 = X_all[0]\n",
    "dist = np.linalg.norm(X_all - X0, axis=1)\n",
    "dist_sorted = np.sort(dist)\n",
    "\n",
    "plt.figure()\n",
    "plt.plot(np.arange(X_all.shape[0]-1), dist_sorted[1:], 'r.')\n",
    "plt.xlabel('number_of_neighbor')\n",
    "plt.ylabel('distance')\n",
    "plt.show()\n",
    "plt.close()"
   ]
  },
  {
   "cell_type": "markdown",
   "metadata": {},
   "source": [
    "### Classification without denoising"
   ]
  },
  {
   "cell_type": "code",
   "execution_count": 22,
   "metadata": {
    "collapsed": true
   },
   "outputs": [],
   "source": [
    "# Create a nearest neighbor classifier\n",
    "n_neighbors = 18\n",
    "kNN = KNeighborsClassifier(n_neighbors=n_neighbors)"
   ]
  },
  {
   "cell_type": "code",
   "execution_count": 23,
   "metadata": {
    "collapsed": false
   },
   "outputs": [
    {
     "name": "stdout",
     "output_type": "stream",
     "text": [
      "Error without denoising: 0.27071428571428574\n"
     ]
    }
   ],
   "source": [
    "# Fit\n",
    "kNN.fit(X_tr, y_tr)\n",
    "# Predict\n",
    "y_pr = kNN.predict(X_te)\n",
    "print('Error without denoising:', np.sum(y_pr != y_te) / n_test)"
   ]
  },
  {
   "cell_type": "markdown",
   "metadata": {},
   "source": [
    "### Denoising"
   ]
  },
  {
   "cell_type": "code",
   "execution_count": 24,
   "metadata": {
    "collapsed": false
   },
   "outputs": [
    {
     "name": "stdout",
     "output_type": "stream",
     "text": [
      "[20.         16.66666667 13.88888889]\n"
     ]
    }
   ],
   "source": [
    "# Ambient dimension\n",
    "D = X_all.shape[1]\n",
    "# Intrinsic dimension\n",
    "d = 6\n",
    "# Sample size\n",
    "n_samples = X_all.shape[0]\n",
    "\n",
    "n_iterations = 3\n",
    "a = 1.2\n",
    "bandwidths = 20 * a**(-np.arange(n_iterations))\n",
    "print(bandwidths)\n",
    "projectors = [np.identity(D)] * n_samples"
   ]
  },
  {
   "cell_type": "code",
   "execution_count": 25,
   "metadata": {
    "collapsed": false
   },
   "outputs": [
    {
     "name": "stdout",
     "output_type": "stream",
     "text": [
      "195.66981231733288\n"
     ]
    }
   ],
   "source": [
    "# Denoising\n",
    "X_denoised, projectors = SAME(X_all, projectors, bandwidths, d=d, tau=21)\n",
    "# Show the average change\n",
    "print(np.linalg.norm(X_denoised - X_all, ord='fro')**2 / n_samples) "
   ]
  },
  {
   "cell_type": "code",
   "execution_count": 26,
   "metadata": {
    "collapsed": true
   },
   "outputs": [],
   "source": [
    "# Split back into train and test points\n",
    "X_denoised_tr = X_denoised[:X_tr.shape[0]]\n",
    "X_denoised_te = X_denoised[X_tr.shape[0]:]"
   ]
  },
  {
   "cell_type": "code",
   "execution_count": 27,
   "metadata": {
    "collapsed": false
   },
   "outputs": [
    {
     "data": {
      "image/png": "[encoded data removed]",
      "text/plain": [
       "<matplotlib.figure.Figure at 0x113b81e80>"
      ]
     },
     "metadata": {},
     "output_type": "display_data"
    }
   ],
   "source": [
    "%matplotlib inline\n",
    "\n",
    "# Look the the distance to the neighbors\n",
    "# The distance to the nearest neighbor was significantly reduced\n",
    "\n",
    "X0 = X_denoised[0]\n",
    "dist = np.linalg.norm(X_denoised - X0, axis=1)\n",
    "dist_sorted = np.sort(dist)\n",
    "\n",
    "plt.figure()\n",
    "plt.plot(np.arange(X_all.shape[0]-1), dist_sorted[1:], 'r.')\n",
    "plt.xlabel('number_of_neighbor')\n",
    "plt.ylabel('distance')\n",
    "plt.show()\n",
    "plt.close()"
   ]
  },
  {
   "cell_type": "markdown",
   "metadata": {},
   "source": [
    "### Classification after denoising"
   ]
  },
  {
   "cell_type": "code",
   "execution_count": 28,
   "metadata": {
    "collapsed": true
   },
   "outputs": [],
   "source": [
    "# Create a nearest neighbor classifier\n",
    "n_neighbors = 12\n",
    "kNN = KNeighborsClassifier(n_neighbors=n_neighbors)"
   ]
  },
  {
   "cell_type": "code",
   "execution_count": 29,
   "metadata": {
    "collapsed": false
   },
   "outputs": [
    {
     "name": "stdout",
     "output_type": "stream",
     "text": [
      "Error after denoising: 0.25285714285714284\n"
     ]
    }
   ],
   "source": [
    "# Fit\n",
    "kNN.fit(X_denoised_tr, y_tr)\n",
    "# Predict\n",
    "y_pr = kNN.predict(X_denoised_te)\n",
    "print('Error after denoising:', np.sum(y_pr != y_te) / n_test)"
   ]
  },
  {
   "cell_type": "code",
   "execution_count": null,
   "metadata": {
    "collapsed": true
   },
   "outputs": [],
   "source": []
  }
 ],
 "metadata": {
  "kernelspec": {
   "display_name": "Python 3",
   "language": "python",
   "name": "python3"
  },
  "language_info": {
   "codemirror_mode": {
    "name": "ipython",
    "version": 3
   },
   "file_extension": ".py",
   "mimetype": "text/x-python",
   "name": "python",
   "nbconvert_exporter": "python",
   "pygments_lexer": "ipython3",
   "version": "3.6.8"
  }
 },
 "nbformat": 4,
 "nbformat_minor": 2
}
